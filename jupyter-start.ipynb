<meta http-equiv="Refresh" content="0; url='https://raw.githubusercontent.com/jmshea/Foundations-of-Data-Science-with-Python/main/01-intro/jupyter-intro.ipynb'"/>
