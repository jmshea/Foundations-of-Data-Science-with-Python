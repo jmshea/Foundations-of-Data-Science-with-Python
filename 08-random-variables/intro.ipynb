{
 "cells": [
  {
   "cell_type": "markdown",
   "metadata": {
    "editable": true,
    "slideshow": {
     "slide_type": ""
    },
    "tags": []
   },
   "source": [
    "# Random Variables"
   ]
  },
  {
   "cell_type": "markdown",
   "metadata": {
    "editable": true,
    "slideshow": {
     "slide_type": ""
    },
    "tags": [],
    "user_expressions": []
   },
   "source": [
    "This page links to interactive elements for Chapter 8 of *Foundations of Data Science with Python*\n",
    "\n",
    "Interactive elements:\n",
    "\n",
    "* {doc}`Section 8.1: Definition of a Real Random Variable<1-definition>` (interactive quiz and flashcards)\n",
    "* {doc}`Section 8.2: Discrete Random Variables<2-discrete-rvs>` (interactive quiz and flashcards)\n",
    "* {doc}`Section 8.3: Cumulative Distribution Functions<3-cdfs>` (interactive quiz and flashcards)\n",
    "* {doc}`Section 8.4: Important Discrete Random Variables<4-important-discrete-rvs>` (interactive quiz and flashcards)\n",
    "* {doc}`Section 8.5: Continuous Random Variables<5-continuous-rvs>` (interactive flashcards)\n",
    "* {doc}`Section 8.6: Important Continuous Random Variables<6-important-continuous-rvs>` (interactive flashcards)\n",
    "* {doc}`Section 8.8: Conditioning with Random Variables<8-conditioning-with-rvs>` (interactive flashcards)\n",
    "* {doc}`Section 8.9: Chapter Summary<9-summary>` (interactive flashcards)\n"
   ]
  }
 ],
 "metadata": {
  "kernelspec": {
   "display_name": "Python 3 (ipykernel)",
   "language": "python",
   "name": "python3"
  },
  "language_info": {
   "codemirror_mode": {
    "name": "ipython",
    "version": 3
   },
   "file_extension": ".py",
   "mimetype": "text/x-python",
   "name": "python",
   "nbconvert_exporter": "python",
   "pygments_lexer": "ipython3",
   "version": "3.11.0"
  },
  "latex_envs": {
   "LaTeX_envs_menu_present": true,
   "autoclose": true,
   "autocomplete": true,
   "bibliofile": "biblio.bib",
   "cite_by": "apalike",
   "current_citInitial": 1,
   "eqLabelWithNumbers": true,
   "eqNumInitial": 1,
   "hotkeys": {
    "equation": "Ctrl-E",
    "itemize": "Ctrl-I"
   },
   "labels_anchors": false,
   "latex_user_defs": false,
   "report_style_numbering": false,
   "user_envs_cfg": false
  }
 },
 "nbformat": 4,
 "nbformat_minor": 4
}
